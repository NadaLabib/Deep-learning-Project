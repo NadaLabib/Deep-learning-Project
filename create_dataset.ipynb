{
 "cells": [
  {
   "cell_type": "code",
   "execution_count": 1,
   "metadata": {},
   "outputs": [],
   "source": [
    "import csv\n",
    "classId = 0\n",
    "with open('train.csv', 'w', newline='') as file:\n",
    "    writer = csv.writer(file)\n",
    "    writer.writerow([\"Filename\", \"label\", \"classId\"])\n",
    "    for i in range(1,251):\n",
    "        writer.writerow([i, \"drive\", classId])\n",
    "    classId +=1\n",
    "    for i in range(251,501):\n",
    "        writer.writerow([i, \"dance\", classId])\n",
    "    classId +=1\n",
    "    for i in range(501,751):\n",
    "        writer.writerow([i, \"sleep\", classId])\n",
    "    classId +=1\n",
    "    for i in range(751,1001):\n",
    "        writer.writerow([i, \"camping\", classId])\n",
    "    classId +=1\n",
    "    for i in range(1001,1251):\n",
    "        writer.writerow([i, \"order\", classId])\n",
    "    classId +=1\n",
    "    for i in range(1251,1501):\n",
    "        writer.writerow([i, \"motor\", classId])\n",
    "    classId +=1\n",
    "    for i in range(1501,1751):\n",
    "        writer.writerow([i, \"godown\", classId])\n",
    "    classId +=1\n",
    "    for i in range(1751,2001):\n",
    "        writer.writerow([i, \"photography\", classId])\n",
    "    classId +=1\n",
    "    for i in range(2001,2251):\n",
    "        writer.writerow([i, \"sit and talk\", classId])\n",
    "    classId +=1\n",
    "    for i in range(2251,2501):\n",
    "        writer.writerow([i, \"swim\", classId])\n",
    "    classId +=1\n",
    "    for i in range(2501,2751):\n",
    "        writer.writerow([i, \"walk\", classId])"
   ]
  },
  {
   "cell_type": "code",
   "execution_count": null,
   "metadata": {},
   "outputs": [],
   "source": []
  }
 ],
 "metadata": {
  "interpreter": {
   "hash": "2728bfe909c06e158dcff0f8fac1cee8a0a9de044063dea1a79890851ea2c05c"
  },
  "kernelspec": {
   "display_name": "Python 3",
   "language": "python",
   "name": "python3"
  },
  "language_info": {
   "codemirror_mode": {
    "name": "ipython",
    "version": 3
   },
   "file_extension": ".py",
   "mimetype": "text/x-python",
   "name": "python",
   "nbconvert_exporter": "python",
   "pygments_lexer": "ipython3",
   "version": "3.7.3"
  }
 },
 "nbformat": 4,
 "nbformat_minor": 2
}
