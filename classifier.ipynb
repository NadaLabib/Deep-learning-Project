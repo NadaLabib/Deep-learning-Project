{
 "cells": [
  {
   "cell_type": "code",
   "execution_count": 1,
   "metadata": {
    "tags": []
   },
   "outputs": [],
   "source": [
    "# ! conda install scikit-learn\n",
    "# ! conda install tensorflow\n",
    "# ! pip3 install sklearn\n",
    "# ! pip3 install -U scikit-learn scipy matplotlib\n",
    "# ! pip3 install np_utils\n",
    "# ! pip3 install scipy==1.10 "
   ]
  },
  {
   "cell_type": "code",
   "execution_count": 2,
   "metadata": {},
   "outputs": [],
   "source": [
    "# ! pip3 uninstall scipy -y\n",
    "# ! pip3 install scipy==1.1.0 "
   ]
  },
  {
   "cell_type": "code",
   "execution_count": 6,
   "metadata": {},
   "outputs": [
    {
     "name": "stdout",
     "output_type": "stream",
     "text": [
      "Collecting h5py==2.10.0\n",
      "  Downloading h5py-2.10.0-cp37-cp37m-macosx_10_6_intel.whl (3.0 MB)\n",
      "\u001b[K     |████████████████████████████████| 3.0 MB 704 kB/s \n",
      "\u001b[?25hCollecting numpy>=1.7\n",
      "  Downloading numpy-1.21.0-cp37-cp37m-macosx_10_9_x86_64.whl (16.8 MB)\n",
      "\u001b[K     |████████████████████████████████| 16.8 MB 1.2 MB/s \n",
      "\u001b[?25hCollecting six\n",
      "  Using cached six-1.16.0-py2.py3-none-any.whl (11 kB)\n",
      "Installing collected packages: six, numpy, h5py\n",
      "  Attempting uninstall: six\n",
      "    Found existing installation: six 1.15.0\n",
      "    Uninstalling six-1.15.0:\n",
      "      Successfully uninstalled six-1.15.0\n",
      "  Attempting uninstall: numpy\n",
      "    Found existing installation: numpy 1.20.3\n",
      "    Uninstalling numpy-1.20.3:\n",
      "      Successfully uninstalled numpy-1.20.3\n",
      "  Attempting uninstall: h5py\n",
      "    Found existing installation: h5py 3.2.1\n",
      "    Uninstalling h5py-3.2.1:\n",
      "      Successfully uninstalled h5py-3.2.1\n",
      "Successfully installed h5py-2.10.0 numpy-1.21.0 six-1.16.0\n"
     ]
    }
   ],
   "source": [
    "! pip3 install 'h5py==2.10.0' --force-reinstall\n"
   ]
  },
  {
   "cell_type": "code",
   "execution_count": 3,
   "metadata": {},
   "outputs": [
    {
     "name": "stderr",
     "output_type": "stream",
     "text": [
      "Using TensorFlow backend.\n"
     ]
    }
   ],
   "source": [
    "from keras.applications.vgg16 import VGG16\n",
    "from keras.preprocessing import image\n",
    "from keras.applications.vgg16 import preprocess_input\n",
    "from keras.applications.vgg16 import decode_predictions\n",
    "from keras.utils.np_utils import to_categorical\n",
    "from keras.models import Model,model_from_json\n",
    " \n",
    "from keras.models import Sequential\n",
    "from keras.optimizers import SGD\n",
    "from keras.layers import Input, Dense, Convolution2D, MaxPooling2D, AveragePooling2D, ZeroPadding2D, Dropout, Flatten, merge, Reshape, Activation\n",
    "\n",
    "from sklearn.preprocessing import LabelEncoder\n",
    "from sklearn.model_selection import train_test_split\n",
    "from sklearn.metrics import log_loss\n",
    "\n",
    "from PIL import Image\n",
    "import matplotlib.pyplot as plt\n",
    "import numpy as np\n",
    "    \n",
    "import pandas as pd\n",
    "from csv import reader\n"
   ]
  },
  {
   "cell_type": "code",
   "execution_count": 4,
   "metadata": {},
   "outputs": [],
   "source": [
    "train=pd.read_csv(\"train.csv\")\n",
    "# test=pd.read_csv(\"./Data/Test/test.csv\")\n",
    "train_path=\"./Data/Train/Images/\"\n",
    "test_path=\"./Data/Test/Images/\"\n",
    "\n",
    "train_img=[]\n",
    "for i in range(len(train)):\n",
    "    temp_img=image.load_img(train_path+str(train['filename'][i])+\".jpg\",target_size=(224,224))\n",
    "    temp_img=image.img_to_array(temp_img)\n",
    "    train_img.append(temp_img)\n",
    "\n",
    "train_img=np.array(train_img)\n",
    "train_img=preprocess_input(train_img)"
   ]
  },
  {
   "cell_type": "code",
   "execution_count": 14,
   "metadata": {},
   "outputs": [],
   "source": [
    "def vgg16_model(img_rows, img_cols, channel=1, num_classes=None):\n",
    "    model = VGG16(weights='imagenet', include_top=True)\n",
    "    model.layers.pop()\n",
    "    model.outputs = [model.layers[-1].output]\n",
    "    model.layers[-1].outbound_nodes = []\n",
    "    x=Dense(num_classes, activation='softmax')(model.output)\n",
    "    model=Model(model.input,x)\n",
    "\n",
    "    #To set the first 8 layers to non-trainable (weights will not be updated)\n",
    "    for layer in model.layers[:8]:\n",
    "       layer.trainable = False\n",
    "\n",
    "    sgd = SGD(lr=1e-2, decay=1e-6, momentum=0.9, nesterov=True)\n",
    "    model.compile(optimizer=sgd, loss='categorical_crossentropy', metrics=['accuracy'])\n",
    "\n",
    "    return model\n"
   ]
  },
  {
   "cell_type": "code",
   "execution_count": 21,
   "metadata": {},
   "outputs": [],
   "source": [
    "train_y=np.asarray(train['label'])\n",
    "le = LabelEncoder()\n",
    "train_y = le.fit_transform(train_y)\n",
    "train_y = to_categorical(train_y)\n",
    "train_y=np.array(train_y)"
   ]
  },
  {
   "cell_type": "code",
   "execution_count": 6,
   "metadata": {},
   "outputs": [
    {
     "name": "stdout",
     "output_type": "stream",
     "text": [
      "WARNING:tensorflow:From C:\\Users\\NADA LABIB\\Anaconda3\\lib\\site-packages\\keras\\backend\\tensorflow_backend.py:4070: The name tf.nn.max_pool is deprecated. Please use tf.nn.max_pool2d instead.\n",
      "\n",
      "WARNING:tensorflow:From C:\\Users\\NADA LABIB\\Anaconda3\\lib\\site-packages\\keras\\backend\\tensorflow_backend.py:422: The name tf.global_variables is deprecated. Please use tf.compat.v1.global_variables instead.\n",
      "\n",
      "Train on 2200 samples, validate on 550 samples\n",
      "Epoch 1/10\n",
      "2200/2200 [==============================] - 1961s 891ms/step - loss: 2.3853 - accuracy: 0.1795 - val_loss: 2.4028 - val_accuracy: 0.0782\n",
      "Epoch 2/10\n",
      "2200/2200 [==============================] - 2412s 1s/step - loss: 2.4018 - accuracy: 0.0827 - val_loss: 2.4019 - val_accuracy: 0.0909\n",
      "Epoch 3/10\n",
      "2200/2200 [==============================] - 1911s 869ms/step - loss: 2.4010 - accuracy: 0.0886 - val_loss: 2.4018 - val_accuracy: 0.0818\n",
      "Epoch 4/10\n",
      "2200/2200 [==============================] - 1790s 814ms/step - loss: 2.4018 - accuracy: 0.0886 - val_loss: 2.4029 - val_accuracy: 0.0818\n",
      "Epoch 5/10\n",
      "2200/2200 [==============================] - 1725s 784ms/step - loss: 2.4015 - accuracy: 0.0832 - val_loss: 2.3988 - val_accuracy: 0.0891\n",
      "Epoch 6/10\n",
      "2200/2200 [==============================] - 1806s 821ms/step - loss: 2.4016 - accuracy: 0.0859 - val_loss: 2.4026 - val_accuracy: 0.0818\n",
      "Epoch 7/10\n",
      "2200/2200 [==============================] - 1712s 778ms/step - loss: 2.4009 - accuracy: 0.0855 - val_loss: 2.4030 - val_accuracy: 0.0691\n",
      "Epoch 8/10\n",
      "2200/2200 [==============================] - 1708s 776ms/step - loss: 2.4010 - accuracy: 0.0832 - val_loss: 2.4052 - val_accuracy: 0.0782\n",
      "Epoch 9/10\n",
      "2200/2200 [==============================] - 1648s 749ms/step - loss: 2.4013 - accuracy: 0.0850 - val_loss: 2.4061 - val_accuracy: 0.0818\n",
      "Epoch 10/10\n",
      "2200/2200 [==============================] - 2126s 966ms/step - loss: 2.4018 - accuracy: 0.0855 - val_loss: 2.4008 - val_accuracy: 0.0691\n",
      "550/550 [==============================] - 218s 396ms/step\n"
     ]
    },
    {
     "data": {
      "text/plain": [
       "2.4008045773072677"
      ]
     },
     "execution_count": 6,
     "metadata": {},
     "output_type": "execute_result"
    }
   ],
   "source": [
    "X_train, X_valid, Y_train, Y_valid=train_test_split(train_img,train_y,test_size=0.2, random_state=42)\n",
    "\n",
    "# Resolution of inputs\n",
    "img_rows, img_cols = 224, 224 \n",
    "channel = 3\n",
    "num_classes = 11\n",
    "batch_size = 16\n",
    "nb_epoch = 10\n",
    "# Load our model\n",
    "model =vgg16_model(img_rows, img_cols, channel, num_classes)\n",
    "\n",
    "# model.summary()\n",
    "\n",
    "# Start Fine-tuning\n",
    "model.fit(X_train, Y_train,batch_size=batch_size,epochs=nb_epoch,shuffle=True,verbose=1,validation_data=(X_valid, Y_valid))\n",
    "# Make predictions\n",
    "predictions_valid = model.predict(X_valid, batch_size=batch_size, verbose=1)\n",
    "# Cross-entropy loss score\n",
    "score = log_loss(Y_valid, predictions_valid)\n",
    "score"
   ]
  },
  {
   "cell_type": "code",
   "execution_count": 32,
   "metadata": {},
   "outputs": [],
   "source": [
    "from keras.models import load_model\n",
    " \n",
    "#load model\n",
    "model = load_model('model2.h5')"
   ]
  },
  {
   "cell_type": "code",
   "execution_count": 39,
   "metadata": {},
   "outputs": [
    {
     "name": "stdout",
     "output_type": "stream",
     "text": [
      "Saved model to disk\n"
     ]
    }
   ],
   "source": [
    "# serialize model to JSON\n",
    "model_json = model.to_json()\n",
    "with open(\"model1.json\", \"w\") as json_file:\n",
    "    json_file.write(model_json)\n",
    "# serialize weights to HDF5\n",
    "model.save_weights(\"model1.h5\")\n",
    "print(\"Saved model to disk\")"
   ]
  },
  {
   "cell_type": "code",
   "execution_count": 40,
   "metadata": {},
   "outputs": [],
   "source": [
    "model.save(\"model2.h5\")"
   ]
  },
  {
   "cell_type": "code",
   "execution_count": 33,
   "metadata": {},
   "outputs": [
    {
     "name": "stdout",
     "output_type": "stream",
     "text": [
      "WARNING:tensorflow:From C:\\Users\\NADA LABIB\\Anaconda3\\lib\\site-packages\\keras\\backend\\tensorflow_backend.py:422: The name tf.global_variables is deprecated. Please use tf.compat.v1.global_variables instead.\n",
      "\n"
     ]
    },
    {
     "data": {
      "text/plain": [
       "array([[0.09016553, 0.09141825, 0.0926401 , 0.09234515, 0.08900622,\n",
       "        0.0889861 , 0.0920297 , 0.08907388, 0.09239862, 0.09083126,\n",
       "        0.09110522]], dtype=float32)"
      ]
     },
     "execution_count": 33,
     "metadata": {},
     "output_type": "execute_result"
    }
   ],
   "source": [
    "test_img=[]\n",
    "pred_img=image.load_img(train_path+str(train['filename'][6])+\".jpg\",target_size=(224,224))\n",
    "pred_img=image.img_to_array(pred_img)\n",
    "test_img.append(pred_img)\n",
    "\n",
    "test_img = np.array(test_img)\n",
    "test_img = preprocess_input(test_img)\n",
    "pred_y = model.predict(test_img)\n",
    "pred_y"
   ]
  },
  {
   "cell_type": "code",
   "execution_count": 34,
   "metadata": {},
   "outputs": [],
   "source": [
    "# function to get unique values\n",
    "def unique(list1): \n",
    "    # intilize a null list\n",
    "    unique_list = []   \n",
    "    # traverse for all elements\n",
    "    for x in list1:\n",
    "        # check if exists in unique_list or not\n",
    "        if x not in unique_list:\n",
    "            unique_list.append(x)\n",
    "    return unique_list"
   ]
  },
  {
   "cell_type": "code",
   "execution_count": 35,
   "metadata": {},
   "outputs": [
    {
     "name": "stdout",
     "output_type": "stream",
     "text": [
      "[0, 1, 2, 3, 4, 5, 6, 7, 8, 9, 10]\n",
      "['drive', 'dance', 'sleep', 'camping', 'order', 'motor', 'godown', 'photography', 'sit and talk', 'swim', 'walk']\n"
     ]
    }
   ],
   "source": [
    "unique_list_classId = unique(train['classId'])\n",
    "unique_list_label = unique(train['label'])\n",
    "print(unique_list_classId)\n",
    "print(unique_list_label)"
   ]
  },
  {
   "cell_type": "code",
   "execution_count": 36,
   "metadata": {},
   "outputs": [
    {
     "name": "stdout",
     "output_type": "stream",
     "text": [
      "sleep sleep\n"
     ]
    }
   ],
   "source": [
    "print(unique_list_label[np.argmax(pred_y)],unique_list_label[train['classId'][600]])"
   ]
  },
  {
   "cell_type": "code",
   "execution_count": 42,
   "metadata": {},
   "outputs": [],
   "source": [
    "#function to calculate the confusion matrix using actual and predicted values\n",
    "def ConfusionMatrix(model, num_classes, testData, img_path = \"./Data/Test/Images/\"):\n",
    "    confusion_matrix = np.zeros((num_classes,num_classes))\n",
    "    number_of_samples = len(testData)\n",
    "    last_percentage = 0\n",
    "    # img_path = \"./Data/Test/Images/\"\n",
    "    for i in range(len(testData)):\n",
    "        if(int(100*(i/number_of_samples)) > last_percentage):\n",
    "            #print(f\"The number of sample is perdicted {i} out of {number_of_samples} current percentage {int(100*(i/number_of_samples))}\")\n",
    "            last_percentage = int(100*(i/number_of_samples))\n",
    "        test_img=[]\n",
    "        pred_img=image.load_img(img_path+str(testData['filename'][i])+\".jpg\",target_size=(224,224))\n",
    "        pred_img=image.img_to_array(pred_img)\n",
    "        test_img.append(pred_img)\n",
    "\n",
    "        test_img = np.array(test_img)\n",
    "        test_img = preprocess_input(test_img)\n",
    "        pred_y = model.predict(test_img)\n",
    "        predicted_value = np.argmax(pred_y)\n",
    "        acutal_value = testData['classId'][i]\n",
    "        confusion_matrix[predicted_value][acutal_value] += 1\n",
    "    return confusion_matrix"
   ]
  },
  {
   "cell_type": "code",
   "execution_count": 45,
   "metadata": {},
   "outputs": [],
   "source": [
    "test=pd.read_csv(\"./Data/Test/test.csv\")\n",
    "confusion_matrix = ConfusionMatrix(model,num_classes,test)"
   ]
  },
  {
   "cell_type": "code",
   "execution_count": 46,
   "metadata": {},
   "outputs": [
    {
     "name": "stdout",
     "output_type": "stream",
     "text": [
      "Overall accuracy:  0.06060606060606061\n"
     ]
    },
    {
     "data": {
      "image/png": "[encoded data removed]",
      "text/plain": [
       "<Figure size 720x720 with 1 Axes>"
      ]
     },
     "metadata": {
      "needs_background": "light"
     },
     "output_type": "display_data"
    }
   ],
   "source": [
    "plt.rc('figure', figsize=[10,10])\n",
    "plt.matshow(confusion_matrix,cmap='Blues')\n",
    "for i in range(0,confusion_matrix.shape[0]):\n",
    "    for j in range(0,confusion_matrix.shape[1]):\n",
    "        plt.annotate(confusion_matrix[i,j],(j,i))\n",
    "        \n",
    "# Calculate Accuracy\n",
    "print(\"Overall accuracy: \",(np.sum(np.diag(confusion_matrix)))/np.sum(confusion_matrix))"
   ]
  }
 ],
 "metadata": {
  "interpreter": {
   "hash": "f3589339df3ae51d693346636dee0b0f43ebe089d3a343a391700cfa5f89bb24"
  },
  "kernelspec": {
   "display_name": "Python 3",
   "language": "python",
   "name": "python3"
  },
  "language_info": {
   "codemirror_mode": {
    "name": "ipython",
    "version": 3
   },
   "file_extension": ".py",
   "mimetype": "text/x-python",
   "name": "python",
   "nbconvert_exporter": "python",
   "pygments_lexer": "ipython3",
   "version": "3.7.3"
  }
 },
 "nbformat": 4,
 "nbformat_minor": 2
}
